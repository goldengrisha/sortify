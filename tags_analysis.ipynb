{
 "cells": [
  {
   "cell_type": "code",
   "execution_count": null,
   "metadata": {},
   "outputs": [],
   "source": [
    "from wordcloud import WordCloud\n",
    "from matplotlib import pyplot as plt\n",
    "\n",
    "from utils.file_utils import get_cleaned_tickets_as_df\n",
    "from utils.text_utils import get_pos_tags, lemmmatize_text, clean_text, clean_stop_words"
   ]
  },
  {
   "cell_type": "code",
   "execution_count": null,
   "metadata": {},
   "outputs": [],
   "source": [
    "tickets_df = get_cleaned_tickets_as_df()\n",
    "tickets_df.head()"
   ]
  },
  {
   "cell_type": "code",
   "execution_count": null,
   "metadata": {},
   "outputs": [],
   "source": [
    "tickets_df[\"message_cleaned\"] = tickets_df.message.apply(clean_text)\n",
    "tickets_df[\"message_lemmatized\"] = tickets_df.message_cleaned.apply(lemmmatize_text)\n",
    "tickets_df[\"message_pos\"] = tickets_df.message_lemmatized.apply(get_pos_tags)\n",
    "tickets_df[\"message_stop\"] = tickets_df.message_pos.apply(clean_stop_words)\n",
    "tickets_df"
   ]
  },
  {
   "cell_type": "code",
   "execution_count": null,
   "metadata": {},
   "outputs": [],
   "source": [
    "# frequency of tags\n",
    "\n",
    "from collections import Counter\n",
    "\n",
    "grouped_tags_df = (\n",
    "    tickets_df.groupby(\"tags\")[\"message_lemmatized\"].apply(\" \".join).reset_index()\n",
    ")\n",
    "\n",
    "# Step 2: Split Text and Count Frequencies\n",
    "word_counts = {}\n",
    "for idx, row in grouped_tags_df.iterrows():\n",
    "    category = row[\"tags\"]\n",
    "    text = row[\"message_lemmatized\"]\n",
    "    words = text.split()\n",
    "    word_counts[category] = dict(Counter(words))\n",
    "\n",
    "# Print the results\n",
    "for category, counts in word_counts.items():\n",
    "    print(f\"Category: {category}\")\n",
    "    for word, count in counts.items():\n",
    "        print(f\"{word}: {count}\")"
   ]
  },
  {
   "cell_type": "code",
   "execution_count": null,
   "metadata": {},
   "outputs": [],
   "source": [
    "spam = str(tickets_df[tickets_df[\"tags\"] == \"Spam\"].message_stop)\n",
    "\n",
    "word_cloud = WordCloud(max_words=40).generate(spam)\n",
    "plt.figure(figsize=(5, 3))\n",
    "plt.imshow(word_cloud)\n",
    "plt.axis(\"off\")\n",
    "plt.title(\"Spam\")\n",
    "plt.show()\n",
    "\n",
    "\n",
    "category = str(tickets_df[tickets_df[\"tags\"] == \"Bug\"].message_stop)\n",
    "\n",
    "word_cloud = WordCloud(max_words=40).generate(category)\n",
    "plt.figure(figsize=(5, 3))\n",
    "plt.imshow(word_cloud)\n",
    "plt.axis(\"off\")\n",
    "plt.title(\"Bug\")\n",
    "plt.show()\n",
    "\n",
    "\n",
    "category = str(tickets_df[tickets_df[\"tags\"] == \"Feature Request\"].message_stop)\n",
    "\n",
    "word_cloud = WordCloud(max_words=40).generate(category)\n",
    "plt.figure(figsize=(5, 3))\n",
    "plt.imshow(word_cloud)\n",
    "plt.axis(\"off\")\n",
    "plt.title(\"Feature Request\")\n",
    "plt.show()\n",
    "\n",
    "\n",
    "category = str(tickets_df[tickets_df[\"tags\"] == \"Product Question\"].message_stop)\n",
    "\n",
    "word_cloud = WordCloud(max_words=40).generate(category)\n",
    "plt.figure(figsize=(5, 3))\n",
    "plt.imshow(word_cloud)\n",
    "plt.axis(\"off\")\n",
    "plt.title(\"Product Question\")\n",
    "plt.show()\n",
    "\n",
    "\n",
    "category = str(tickets_df[tickets_df[\"tags\"] == \"Sales\"].message_stop)\n",
    "\n",
    "word_cloud = WordCloud(max_words=40).generate(category)\n",
    "plt.figure(figsize=(5, 3))\n",
    "plt.imshow(word_cloud)\n",
    "plt.axis(\"off\")\n",
    "plt.title(\"Sales\")\n",
    "plt.show()"
   ]
  }
 ],
 "metadata": {
  "kernelspec": {
   "display_name": "venv",
   "language": "python",
   "name": "python3"
  },
  "language_info": {
   "codemirror_mode": {
    "name": "ipython",
    "version": 3
   },
   "file_extension": ".py",
   "mimetype": "text/x-python",
   "name": "python",
   "nbconvert_exporter": "python",
   "pygments_lexer": "ipython3",
   "version": "3.11.9"
  }
 },
 "nbformat": 4,
 "nbformat_minor": 2
}
