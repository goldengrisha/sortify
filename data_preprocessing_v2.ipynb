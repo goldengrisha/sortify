{
 "cells": [
  {
   "cell_type": "code",
   "execution_count": null,
   "metadata": {},
   "outputs": [],
   "source": [
    "from utils.file_utils import get_tickets_as_df"
   ]
  },
  {
   "cell_type": "markdown",
   "metadata": {},
   "source": [
    "# Data exploration"
   ]
  },
  {
   "cell_type": "code",
   "execution_count": null,
   "metadata": {},
   "outputs": [],
   "source": [
    "tickets_df = get_tickets_as_df()\n",
    "tickets_df.head(100)"
   ]
  },
  {
   "cell_type": "code",
   "execution_count": null,
   "metadata": {},
   "outputs": [],
   "source": [
    "# Just investigate the tags, need to check if one ticket has multiple tags\n",
    "tickets_df.groupby(\"ticket_number\")[\"tags\"].unique()\n",
    "# conclusion:\n",
    "# one ticket has multiple tags"
   ]
  },
  {
   "cell_type": "code",
   "execution_count": null,
   "metadata": {},
   "outputs": [],
   "source": [
    "# just investigate the tags and the counts\n",
    "tickets_df[\"tags\"].value_counts()\n",
    "# conclusion:\n",
    "# there's a lot of tags with low frequency\n",
    "# so they are not very useful\n",
    "# they can be dropped"
   ]
  },
  {
   "cell_type": "markdown",
   "metadata": {},
   "source": [
    "# Feature engineering"
   ]
  },
  {
   "cell_type": "code",
   "execution_count": null,
   "metadata": {},
   "outputs": [],
   "source": [
    "cleaned_tickets_df = tickets_df[\n",
    "    ~tickets_df[\"tags\"].isnull()\n",
    "]  # remove tags rows with null\n",
    "\n",
    "cleaned_tickets_df = cleaned_tickets_df[\n",
    "    ~cleaned_tickets_df[\"message\"].isnull()\n",
    "]  # remove message rows with null\n",
    "\n",
    "\n",
    "def map_categories(cat: str) -> str:\n",
    "    if \"Bug\" == cat:\n",
    "        return \"Bug\"\n",
    "    elif \"Product Question\" == cat:\n",
    "        return \"Product Question\"\n",
    "    elif \"Feature Request\" == cat:\n",
    "        return \"Feature Request\"\n",
    "    elif \"Sales\" == cat:\n",
    "        return \"Sales\"\n",
    "    elif \"Spam\" == cat:\n",
    "        return \"Spam\"\n",
    "    else:\n",
    "        return \"Other\"\n",
    "\n",
    "\n",
    "cleaned_tickets_df[\"tags\"] = cleaned_tickets_df[\"tags\"].apply(map_categories)\n",
    "cleaned_tickets_df[\"tags\"].value_counts()\n",
    "\n",
    "\n",
    "cleaned_tickets_df = cleaned_tickets_df[\n",
    "    cleaned_tickets_df[\"tags\"] != \"Other\"\n",
    "]  # filter out spam, bug, product question, feature request, sales\n",
    "\n",
    "\n",
    "cleaned_tickets_df[\"tags\"].value_counts()\n",
    "# we still can see a lot of tags with low frequency"
   ]
  },
  {
   "cell_type": "code",
   "execution_count": null,
   "metadata": {},
   "outputs": [],
   "source": [
    "cleaned_tickets_df"
   ]
  },
  {
   "cell_type": "markdown",
   "metadata": {},
   "source": [
    "# Save to csv"
   ]
  },
  {
   "cell_type": "code",
   "execution_count": null,
   "metadata": {},
   "outputs": [],
   "source": [
    "cleaned_tickets_df.to_csv(\"data/cleaned_tickets_v2.csv\", index=False)"
   ]
  }
 ],
 "metadata": {
  "kernelspec": {
   "display_name": "venv",
   "language": "python",
   "name": "python3"
  },
  "language_info": {
   "codemirror_mode": {
    "name": "ipython",
    "version": 3
   },
   "file_extension": ".py",
   "mimetype": "text/x-python",
   "name": "python",
   "nbconvert_exporter": "python",
   "pygments_lexer": "ipython3",
   "version": "3.11.9"
  }
 },
 "nbformat": 4,
 "nbformat_minor": 2
}
