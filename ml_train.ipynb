{
 "cells": [
  {
   "cell_type": "code",
   "execution_count": null,
   "metadata": {},
   "outputs": [],
   "source": [
    "from sklearn.feature_extraction.text import TfidfVectorizer\n",
    "from sklearn.model_selection import train_test_split\n",
    "from sklearn.linear_model import LogisticRegression\n",
    "from sklearn.pipeline import Pipeline\n",
    "from sklearn.metrics import classification_report\n",
    "\n",
    "from utils.file_utils import get_cleaned_tickets_as_df"
   ]
  },
  {
   "cell_type": "code",
   "execution_count": null,
   "metadata": {},
   "outputs": [],
   "source": [
    "tickets_df = get_cleaned_tickets_as_df(path=\"./data/cleaned_tickets_v4.csv\")\n",
    "tickets_df"
   ]
  },
  {
   "cell_type": "code",
   "execution_count": null,
   "metadata": {},
   "outputs": [],
   "source": [
    "!python3 -m spacy download en_core_web_sm"
   ]
  },
  {
   "cell_type": "code",
   "execution_count": null,
   "metadata": {},
   "outputs": [],
   "source": [
    "from utils.text_utils import clean_text, lemmmatize_text, get_pos_tags, clean_stop_words\n",
    "\n",
    "tickets_df[\"message_cleaned\"] = tickets_df.message.apply(clean_text)\n",
    "tickets_df[\"message_lemmatized\"] = tickets_df.message_cleaned.apply(lemmmatize_text)\n",
    "tickets_df[\"message_pos\"] = tickets_df.message_lemmatized.apply(get_pos_tags)\n",
    "tickets_df[\"message_stop\"] = tickets_df.message_pos.apply(clean_stop_words)\n",
    "tickets_df = tickets_df[tickets_df[\"message_stop\"].str.len() > 50]\n",
    "tickets_df"
   ]
  },
  {
   "cell_type": "code",
   "execution_count": null,
   "metadata": {},
   "outputs": [],
   "source": [
    "df_clean = tickets_df[[\"message_stop\", \"tags\"]]\n",
    "\n",
    "# reverse_topic_mapping = {\n",
    "#     \"Spam\": \"0\",\n",
    "#     \"Sales\": \"1\",\n",
    "#     \"Feature Request\": \"2\",\n",
    "#     \"Bug\": \"3\",\n",
    "#     \"Product Question\": \"4\",\n",
    "# }\n",
    "# # Replace Topics with Topic Names\n",
    "# df_clean[\"tags\"] = df_clean[\"tags\"].map(reverse_topic_mapping)\n",
    "\n",
    "df_clean"
   ]
  },
  {
   "cell_type": "code",
   "execution_count": null,
   "metadata": {},
   "outputs": [],
   "source": [
    "# Split data into features and labels\n",
    "X = df_clean[\"message_stop\"]\n",
    "y = df_clean[\"tags\"]\n",
    "\n",
    "# Split into training and testing sets (note: with very small dataset, train/test split is just for demonstration)\n",
    "X_train, X_test, y_train, y_test = train_test_split(\n",
    "    X, y, test_size=0.1, random_state=42\n",
    ")"
   ]
  },
  {
   "cell_type": "code",
   "execution_count": null,
   "metadata": {},
   "outputs": [],
   "source": [
    "from sklearn.feature_extraction.text import CountVectorizer\n",
    "from sklearn.feature_extraction.text import TfidfTransformer\n",
    "\n",
    "# Build a pipeline\n",
    "pipeline = Pipeline(\n",
    "    [\n",
    "        (\"count_vectorizer\", CountVectorizer()),\n",
    "        ('tfidf', TfidfTransformer()),\n",
    "        (\"classifier\", LogisticRegression(random_state=40, solver=\"liblinear\")),\n",
    "    ]\n",
    ")\n",
    "\n",
    "# Train the model\n",
    "pipeline.fit(X_train, y_train)\n",
    "\n",
    "# Predict on the test set\n",
    "y_pred = pipeline.predict(X_test)\n",
    "\n",
    "# Evaluate the model\n",
    "print(pipeline.score(X_train, y_train))\n",
    "print(pipeline.score(X_test, y_test))\n",
    "print(classification_report(y_test, y_pred))"
   ]
  },
  {
   "cell_type": "code",
   "execution_count": null,
   "metadata": {},
   "outputs": [],
   "source": [
    "from sklearn.naive_bayes import MultinomialNB\n",
    "\n",
    "# Build a pipeline\n",
    "pipeline = Pipeline(\n",
    "    [\n",
    "        (\"count_vectorizer\", CountVectorizer()),\n",
    "        (\"tfidf\", TfidfTransformer()),\n",
    "        # (\"tfidf\", TfidfVectorizer(min_df=2, max_df=0.95, stop_words=\"english\")),\n",
    "        (\"classifier\", MultinomialNB()),\n",
    "    ]\n",
    ")\n",
    "\n",
    "# fit model\n",
    "pipeline.fit(X_train, y_train)\n",
    "\n",
    "# Predict on the test set\n",
    "y_pred = pipeline.predict(X_test)\n",
    "\n",
    "print(pipeline.score(X_train, y_train))\n",
    "print(pipeline.score(X_test, y_test))\n",
    "print(classification_report(y_test, y_pred))"
   ]
  },
  {
   "cell_type": "code",
   "execution_count": null,
   "metadata": {},
   "outputs": [],
   "source": [
    "from sklearn.tree import DecisionTreeClassifier\n",
    "\n",
    "# Build a pipeline\n",
    "pipeline = Pipeline(\n",
    "    [\n",
    "        #(\"count_vectorizer\", CountVectorizer()),\n",
    "        (\"tfidf\", TfidfVectorizer(min_df=2, max_df=0.95, stop_words=\"english\")),\n",
    "        (\"classifier\", DecisionTreeClassifier()),\n",
    "    ]\n",
    ")\n",
    "\n",
    "# fit model\n",
    "pipeline.fit(X_train, y_train)\n",
    "\n",
    "# Predict on the test set\n",
    "y_pred = pipeline.predict(X_test)\n",
    "\n",
    "print(pipeline.score(X_train, y_train))\n",
    "print(pipeline.score(X_test, y_test))\n",
    "print(classification_report(y_test, y_pred))"
   ]
  }
 ],
 "metadata": {
  "kernelspec": {
   "display_name": "venv",
   "language": "python",
   "name": "python3"
  },
  "language_info": {
   "codemirror_mode": {
    "name": "ipython",
    "version": 3
   },
   "file_extension": ".py",
   "mimetype": "text/x-python",
   "name": "python",
   "nbconvert_exporter": "python",
   "pygments_lexer": "ipython3",
   "version": "3.11.9"
  }
 },
 "nbformat": 4,
 "nbformat_minor": 2
}
